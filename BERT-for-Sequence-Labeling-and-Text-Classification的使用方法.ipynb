{
 "cells": [
  {
   "cell_type": "markdown",
   "metadata": {},
   "source": [
    "## BERT-for-Sequence-Labeling-and-Text-Classification"
   ]
  },
  {
   "cell_type": "markdown",
   "metadata": {},
   "source": [
    "## BERT information"
   ]
  },
  {
   "cell_type": "markdown",
   "metadata": {},
   "source": [
    "以 uncased_L-12_H-768_A-12 为例，含有以下三个文件\n",
    "+ uncased_L-12_H-768_A-12/vocab.txt\n",
    "+ uncased_L-12_H-768_A-12/bert_config.json\n",
    "+ uncased_L-12_H-768_A-12/bert_model.ckpt"
   ]
  },
  {
   "cell_type": "markdown",
   "metadata": {},
   "source": [
    "## 序列标注任务"
   ]
  },
  {
   "cell_type": "markdown",
   "metadata": {},
   "source": [
    "> 使用示例"
   ]
  },
  {
   "cell_type": "markdown",
   "metadata": {},
   "source": [
    "### ATIS"
   ]
  },
  {
   "cell_type": "raw",
   "metadata": {},
   "source": [
    "python run_sequence_labeling.py \\\n",
    "--task_name=\"atis\" \\\n",
    "--do_train=True \\\n",
    "--do_eval=True \\\n",
    "--do_predict=True \\\n",
    "--data_dir=data/atis_Intent_Detection_and_Slot_Filling \\\n",
    "--vocab_file=pretrained_model/uncased_L-12_H-768_A-12/vocab.txt \\\n",
    "--bert_config_file=pretrained_model/uncased_L-12_H-768_A-12/bert_config.json \\\n",
    "--init_checkpoint=pretrained_model/uncased_L-12_H-768_A-12/bert_model.ckpt \\\n",
    "--max_seq_length=128 \\\n",
    "--train_batch_size=32 \\\n",
    "--learning_rate=2e-5 \\\n",
    "--num_train_epochs=1.0 \\\n",
    "--output_dir=./output/atis_Slot_Filling_epoch1/ "
   ]
  },
  {
   "cell_type": "markdown",
   "metadata": {},
   "source": [
    "### SNIPS"
   ]
  },
  {
   "cell_type": "raw",
   "metadata": {},
   "source": [
    "python run_sequence_labeling.py \\\n",
    "--task_name=\"snips\" \\\n",
    "--do_train=True \\\n",
    "--do_eval=True \\\n",
    "--do_predict=True \\\n",
    "--data_dir=data/snips_Intent_Detection_and_Slot_Filling \\\n",
    "--vocab_file=pretrained_model/uncased_L-12_H-768_A-12/vocab.txt \\\n",
    "--bert_config_file=pretrained_model/uncased_L-12_H-768_A-12/bert_config.json \\\n",
    "--init_checkpoint=pretrained_model/uncased_L-12_H-768_A-12/bert_model.ckpt \\\n",
    "--max_seq_length=128 \\\n",
    "--train_batch_size=32 \\\n",
    "--learning_rate=2e-5 \\\n",
    "--num_train_epochs=9.0 \\\n",
    "--output_dir=./output/snips_Slot_Filling/ "
   ]
  },
  {
   "cell_type": "markdown",
   "metadata": {},
   "source": [
    "### CoNLL2003NER"
   ]
  },
  {
   "cell_type": "raw",
   "metadata": {},
   "source": [
    "python run_sequence_labeling.py \\\n",
    "--task_name=\"conll2003ner\" \\\n",
    "--do_train=True \\\n",
    "--do_eval=True \\\n",
    "--do_predict=True \\\n",
    "--data_dir=data/CoNLL2003_NER \\\n",
    "--vocab_file=pretrained_model/uncased_L-12_H-768_A-12/vocab.txt \\\n",
    "--bert_config_file=pretrained_model/uncased_L-12_H-768_A-12/bert_config.json \\\n",
    "--init_checkpoint=pretrained_model/uncased_L-12_H-768_A-12/bert_model.ckpt \\\n",
    "--max_seq_length=128 \\\n",
    "--train_batch_size=32 \\\n",
    "--learning_rate=2e-5 \\\n",
    "--num_train_epochs=30.0 \\\n",
    "--output_dir=./output/conll2003ner_epoch30/ "
   ]
  },
  {
   "cell_type": "markdown",
   "metadata": {},
   "source": [
    "## 序列标注任务预测 "
   ]
  },
  {
   "cell_type": "raw",
   "metadata": {},
   "source": [
    "python run_sequence_labeling.py \\\n",
    "--task_name=\"conll2003ner\" \\\n",
    "--do_predict=True \\\n",
    "--data_dir=data/CoNLL2003_NER \\\n",
    "--vocab_file=pretrained_model/uncased_L-12_H-768_A-12/vocab.txt \\\n",
    "--bert_config_file=pretrained_model/uncased_L-12_H-768_A-12/bert_config.json \\\n",
    "--init_checkpoint=output/conll2003ner/model.ckpt-653 \\\n",
    "--output_dir=./output/conll2003ner_epoch3_test653ckpt/ "
   ]
  },
  {
   "cell_type": "markdown",
   "metadata": {},
   "source": [
    "## 文本分类任务训练 Text-Classification Train"
   ]
  },
  {
   "cell_type": "markdown",
   "metadata": {},
   "source": [
    "### ATIS Train"
   ]
  },
  {
   "cell_type": "raw",
   "metadata": {},
   "source": [
    "python run_text_classification.py \\\n",
    "  --task_name=atis \\\n",
    "  --do_train=true \\\n",
    "  --do_eval=true \\\n",
    "  --data_dir=data/atis_Intent_Detection_and_Slot_Filling \\\n",
    "  --vocab_file=pretrained_model/uncased_L-12_H-768_A-12/vocab.txt \\\n",
    "  --bert_config_file=pretrained_model/uncased_L-12_H-768_A-12/bert_config.json \\\n",
    "  --init_checkpoint=pretrained_model/uncased_L-12_H-768_A-12/bert_model.ckpt \\\n",
    "  --max_seq_length=128 \\\n",
    "  --output_dir=./output/atis_Intent_Detection/"
   ]
  },
  {
   "cell_type": "markdown",
   "metadata": {},
   "source": [
    "## 文本分类任务预测 Text-Classification Predict"
   ]
  },
  {
   "cell_type": "markdown",
   "metadata": {},
   "source": [
    "### ATIS Make Predicte"
   ]
  },
  {
   "cell_type": "raw",
   "metadata": {},
   "source": [
    "python run_text_classification.py \\\n",
    "  --task_name=atis \\\n",
    "  --do_predict=true \\\n",
    "  --data_dir=data/atis_Intent_Detection_and_Slot_Filling \\\n",
    "  --vocab_file=pretrained_model/uncased_L-12_H-768_A-12/vocab.txt \\\n",
    "  --bert_config_file=pretrained_model/uncased_L-12_H-768_A-12/bert_config.json \\\n",
    "  --init_checkpoint=output/atis_Intent_Detection/model.ckpt-419 \\\n",
    "  --max_seq_length=128 \\\n",
    "  --output_dir=./output/atis_Intent_Detection_epoch3_test419ckpt"
   ]
  },
  {
   "cell_type": "markdown",
   "metadata": {},
   "source": [
    "### SNIPS Make Predicte"
   ]
  },
  {
   "cell_type": "raw",
   "metadata": {},
   "source": [
    "python run_text_classification.py \\\n",
    "  --task_name=Snips \\\n",
    "  --do_predict=true \\\n",
    "  --data_dir=data/snips_Intent_Detection_and_Slot_Filling \\\n",
    "  --vocab_file=pretrained_model/uncased_L-12_H-768_A-12/vocab.txt \\\n",
    "  --bert_config_file=pretrained_model/uncased_L-12_H-768_A-12/bert_config.json \\\n",
    "  --init_checkpoint=output/snips_Intent_Detection/model.ckpt-1226 \\\n",
    "  --max_seq_length=128 \\\n",
    "  --output_dir=./output/snips_Intent_Detection/test1"
   ]
  },
  {
   "cell_type": "markdown",
   "metadata": {},
   "source": [
    "## 联合任务训练 Sequence-Labeling-and-Text-Classification train"
   ]
  },
  {
   "cell_type": "markdown",
   "metadata": {},
   "source": [
    "### SNIPS Train"
   ]
  },
  {
   "cell_type": "raw",
   "metadata": {},
   "source": [
    "python run_sequence_labeling_and_text_classification.py \\\n",
    "  --task_name=snips \\\n",
    "  --do_train=true \\\n",
    "  --do_eval=true \\\n",
    "  --data_dir=data/snips_Intent_Detection_and_Slot_Filling \\\n",
    "  --vocab_file=pretrained_model/uncased_L-12_H-768_A-12/vocab.txt \\\n",
    "  --bert_config_file=pretrained_model/uncased_L-12_H-768_A-12/bert_config.json \\\n",
    "  --init_checkpoint=pretrained_model/uncased_L-12_H-768_A-12/bert_model.ckpt \\\n",
    "  --num_train_epochs=30.0 \\\n",
    "  --output_dir=./output/snips_join_task_epoch30/"
   ]
  },
  {
   "cell_type": "markdown",
   "metadata": {},
   "source": [
    "### ATIS Train"
   ]
  },
  {
   "cell_type": "raw",
   "metadata": {},
   "source": [
    "python run_sequence_labeling_and_text_classification.py \\\n",
    "  --task_name=Atis \\\n",
    "  --do_train=true \\\n",
    "  --do_eval=true \\\n",
    "  --data_dir=data/atis_Intent_Detection_and_Slot_Filling \\\n",
    "  --vocab_file=pretrained_model/uncased_L-12_H-768_A-12/vocab.txt \\\n",
    "  --bert_config_file=pretrained_model/uncased_L-12_H-768_A-12/bert_config.json \\\n",
    "  --init_checkpoint=pretrained_model/uncased_L-12_H-768_A-12/bert_model.ckpt \\\n",
    "  --num_train_epochs=30.0 \\\n",
    "  --output_dir=./output/atis_join_task_epoch30/"
   ]
  },
  {
   "cell_type": "markdown",
   "metadata": {},
   "source": [
    "### ATIS Next Train"
   ]
  },
  {
   "cell_type": "raw",
   "metadata": {},
   "source": [
    "python run_sequence_labeling_and_text_classification.py \\\n",
    "  --task_name=Atis \\\n",
    "  --do_train=true \\\n",
    "  --do_eval=true \\\n",
    "  --data_dir=data/atis_Intent_Detection_and_Slot_Filling \\\n",
    "  --vocab_file=pretrained_model/uncased_L-12_H-768_A-12/vocab.txt \\\n",
    "  --bert_config_file=pretrained_model/uncased_L-12_H-768_A-12/bert_config.json \\\n",
    "  --init_checkpoint=output/atis_join_task_epoch10/model.ckpt-1399 \\\n",
    "  --num_train_epochs=10.0 \\\n",
    "  --output_dir=./output/atis_join_task_epoch20/"
   ]
  },
  {
   "cell_type": "markdown",
   "metadata": {},
   "source": [
    "## 联合任务 Sequence-Labeling-and-Text-Classification Predict"
   ]
  },
  {
   "cell_type": "markdown",
   "metadata": {},
   "source": [
    "### SNIPS Make Predicte"
   ]
  },
  {
   "cell_type": "raw",
   "metadata": {},
   "source": [
    "python run_sequence_labeling_and_text_classification.py \\\n",
    "  --task_name=Snips \\\n",
    "  --do_predict=true \\\n",
    "  --data_dir=data/snips_Intent_Detection_and_Slot_Filling \\\n",
    "  --vocab_file=pretrained_model/uncased_L-12_H-768_A-12/vocab.txt \\\n",
    "  --bert_config_file=pretrained_model/uncased_L-12_H-768_A-12/bert_config.json \\\n",
    "  --init_checkpoint=output/snips_join_task_epoch30/model.ckpt-10000 \\\n",
    "  --max_seq_length=128 \\\n",
    "  --output_dir=./output/snips_join_task_epoch30_test10000ckpt"
   ]
  },
  {
   "cell_type": "markdown",
   "metadata": {},
   "source": [
    "### ATIS Make Predicte"
   ]
  },
  {
   "cell_type": "raw",
   "metadata": {},
   "source": [
    "python run_sequence_labeling_and_text_classification.py \\\n",
    "  --task_name=Atis \\\n",
    "  --do_predict=true \\\n",
    "  --data_dir=data/atis_Intent_Detection_and_Slot_Filling \\\n",
    "  --vocab_file=pretrained_model/uncased_L-12_H-768_A-12/vocab.txt \\\n",
    "  --bert_config_file=pretrained_model/uncased_L-12_H-768_A-12/bert_config.json \\\n",
    "  --init_checkpoint=output/atis_join_task_epoch30/model.ckpt-12000\n",
    "  --max_seq_length=128 \\\n",
    "  --output_dir=./output/atis_join_task_epoch30_test1399ckpt"
   ]
  },
  {
   "cell_type": "markdown",
   "metadata": {},
   "source": []
  },
  {
   "cell_type": "markdown",
   "metadata": {},
   "source": [
    "# run_slot_intent_join_task_LSTM.py"
   ]
  },
  {
   "cell_type": "raw",
   "metadata": {},
   "source": [
    "python run_slot_intent_join_task_LSTM.py \\\n",
    "  --task_name=atis \\\n",
    "  --do_train=true \\\n",
    "  --do_eval=true \\\n",
    "  --data_dir=data/atis_Intent_Detection_and_Slot_Filling \\\n",
    "  --vocab_file=pretrained_model/uncased_L-12_H-768_A-12/vocab.txt \\\n",
    "  --bert_config_file=pretrained_model/uncased_L-12_H-768_A-12/bert_config.json \\\n",
    "  --init_checkpoint=pretrained_model/uncased_L-12_H-768_A-12/bert_model.ckpt \\\n",
    "  --num_train_epochs=30.0 \\\n",
    "  --output_dir=./output/atis_join_task_LSTM_epoch30/"
   ]
  },
  {
   "cell_type": "raw",
   "metadata": {},
   "source": [
    "python run_slot_intent_join_task_LSTM.py \\\n",
    "  --task_name=snips \\\n",
    "  --do_train=true \\\n",
    "  --do_eval=true \\\n",
    "  --data_dir=data/snips_Intent_Detection_and_Slot_Filling \\\n",
    "  --vocab_file=pretrained_model/uncased_L-12_H-768_A-12/vocab.txt \\\n",
    "  --bert_config_file=pretrained_model/uncased_L-12_H-768_A-12/bert_config.json \\\n",
    "  --init_checkpoint=pretrained_model/uncased_L-12_H-768_A-12/bert_model.ckpt \\\n",
    "  --num_train_epochs=10.0 \\\n",
    "  --output_dir=./output/snips_join_task_LSTM_epoch10/"
   ]
  },
  {
   "cell_type": "raw",
   "metadata": {},
   "source": [
    "python run_slot_intent_join_task_LSTM.py \\\n",
    "  --task_name=snips \\\n",
    "  --do_predict=true \\\n",
    "  --data_dir=data/snips_Intent_Detection_and_Slot_Filling \\\n",
    "  --vocab_file=pretrained_model/uncased_L-12_H-768_A-12/vocab.txt \\\n",
    "  --bert_config_file=pretrained_model/uncased_L-12_H-768_A-12/bert_config.json \\\n",
    "  --init_checkpoint=output/snips_join_task_LSTM_epoch30/model.ckpt-4198 \\\n",
    "  --max_seq_length=128 \\\n",
    "  --output_dir=./output/snips_join_task_LSTM_epoch30_test4198ckpt"
   ]
  },
  {
   "cell_type": "raw",
   "metadata": {},
   "source": [
    "python run_slot_intent_join_task_LSTM.py \\\n",
    "  --task_name=atis \\\n",
    "  --do_predict=true \\\n",
    "  --data_dir=data/atis_Intent_Detection_and_Slot_Filling \\\n",
    "  --vocab_file=pretrained_model/uncased_L-12_H-768_A-12/vocab.txt \\\n",
    "  --bert_config_file=pretrained_model/uncased_L-12_H-768_A-12/bert_config.json \\\n",
    "  --init_checkpoint=output/atis_join_task_LSTM_epoch30/model.ckpt-4198 \\\n",
    "  --max_seq_length=128 \\\n",
    "  --output_dir=./output/atis_join_task_LSTM_epoch30_test4198ckpt"
   ]
  }
 ],
 "metadata": {
  "kernelspec": {
   "display_name": "Python 3",
   "language": "python",
   "name": "python3"
  },
  "language_info": {
   "codemirror_mode": {
    "name": "ipython",
    "version": 3
   },
   "file_extension": ".py",
   "mimetype": "text/x-python",
   "name": "python",
   "nbconvert_exporter": "python",
   "pygments_lexer": "ipython3",
   "version": "3.6.7"
  }
 },
 "nbformat": 4,
 "nbformat_minor": 2
}
